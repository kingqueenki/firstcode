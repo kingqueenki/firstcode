{
  "nbformat": 4,
  "nbformat_minor": 0,
  "metadata": {
    "colab": {
      "provenance": [],
      "authorship_tag": "ABX9TyMJXEctQpPaJ2xvbcNSMe49",
      "include_colab_link": true
    },
    "kernelspec": {
      "name": "python3",
      "display_name": "Python 3"
    },
    "language_info": {
      "name": "python"
    }
  },
  "cells": [
    {
      "cell_type": "markdown",
      "metadata": {
        "id": "view-in-github",
        "colab_type": "text"
      },
      "source": [
        "<a href=\"https://colab.research.google.com/github/kingqueenki/firstcode/blob/main/CT2nd_code.ipynb\" target=\"_parent\"><img src=\"https://colab.research.google.com/assets/colab-badge.svg\" alt=\"Open In Colab\"/></a>"
      ]
    },
    {
      "cell_type": "markdown",
      "source": [
        "2번째 코딩\n",
        "\n",
        "\n",
        "\n",
        "*  사용자로부터 3개의 값을 입력받아서 더하고 평균값을 출력해주는 코드\n",
        "\n",
        "\n",
        "\n"
      ],
      "metadata": {
        "id": "cmAthJu3KoxO"
      }
    },
    {
      "cell_type": "code",
      "execution_count": null,
      "metadata": {
        "colab": {
          "base_uri": "https://localhost:8080/"
        },
        "id": "S20vq17zGbwg",
        "outputId": "6663d516-d813-4bb7-bc45-c6ede04ee213"
      },
      "outputs": [
        {
          "output_type": "stream",
          "name": "stdout",
          "text": [
            "N1의 값을 입력하시오.:40\n",
            "N2의 값을 입력하시오.:50\n",
            "N3의 값을 입력하시오.:60\n",
            "50.0\n"
          ]
        }
      ],
      "source": [
        "# @title 기본 제목 텍스트\n",
        "n1=int(input(\"N1의 값을 입력하시오.:\")) # 사용자로부터 \"N1의 값을 입력하시오.:\"라는 메시지와 함께 n1의 값을 입력받습니다. 입력받은 값은 문자열 형태이므로 int 함수를 사용해 정수형으로 변환합니다.\n",
        "n2=int(input(\"N2의 값을 입력하시오.:\")) # 위와 같은 방식으로 n2의 값을 입력받습니다.\n",
        "n3=int(input(\"N3의 값을 입력하시오.:\")) # 위와 같은 방식으로 n3의 값을 입력받습니다.\n",
        "total=n1+n2+n3 # n1, n2, n3의 합을 계산하여 total에 저장합니다.\n",
        "average=total/3 # total을 3으로 나누어 평균을 계산하고, 그 결과를 average에 저장합니다.\n",
        "print(average) # 계산된 평균값을 출력합니다."
      ]
    },
    {
      "cell_type": "markdown",
      "source": [],
      "metadata": {
        "id": "Gvh36gf8KkVf"
      }
    }
  ]
}