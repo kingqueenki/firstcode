{
  "nbformat": 4,
  "nbformat_minor": 0,
  "metadata": {
    "colab": {
      "provenance": [],
      "authorship_tag": "ABX9TyN8IXrf69FjeyFft6+lgg09",
      "include_colab_link": true
    },
    "kernelspec": {
      "name": "python3",
      "display_name": "Python 3"
    },
    "language_info": {
      "name": "python"
    }
  },
  "cells": [
    {
      "cell_type": "markdown",
      "metadata": {
        "id": "view-in-github",
        "colab_type": "text"
      },
      "source": [
        "<a href=\"https://colab.research.google.com/github/kingqueenki/firstcode/blob/main/CT2nd_code.ipynb\" target=\"_parent\"><img src=\"https://colab.research.google.com/assets/colab-badge.svg\" alt=\"Open In Colab\"/></a>"
      ]
    },
    {
      "cell_type": "markdown",
      "source": [
        "2번째 코딩\n",
        "\n",
        "\n",
        "\n",
        "*  사용자로부터 3개의 값을 입력받아서 더하고 평균값을 출력해주는 코드\n",
        "\n",
        "\n",
        "\n"
      ],
      "metadata": {
        "id": "cmAthJu3KoxO"
      }
    },
    {
      "cell_type": "code",
      "execution_count": 2,
      "metadata": {
        "colab": {
          "base_uri": "https://localhost:8080/"
        },
        "id": "S20vq17zGbwg",
        "outputId": "6663d516-d813-4bb7-bc45-c6ede04ee213"
      },
      "outputs": [
        {
          "output_type": "stream",
          "name": "stdout",
          "text": [
            "N1의 값을 입력하시오.:40\n",
            "N2의 값을 입력하시오.:50\n",
            "N3의 값을 입력하시오.:60\n",
            "50.0\n"
          ]
        }
      ],
      "source": [
        "# @title 기본 제목 텍스트\n",
        "n1=int(input(\"N1의 값을 입력하시오.:\"))\n",
        "n2=int(input(\"N2의 값을 입력하시오.:\"))\n",
        "n3=int(input(\"N3의 값을 입력하시오.:\"))\n",
        "total=n1+n2+n3\n",
        "average=total/3\n",
        "print(average)"
      ]
    },
    {
      "cell_type": "markdown",
      "source": [],
      "metadata": {
        "id": "Gvh36gf8KkVf"
      }
    }
  ]
}